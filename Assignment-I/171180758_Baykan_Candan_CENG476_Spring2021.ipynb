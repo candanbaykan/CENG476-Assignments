{
 "cells": [
  {
   "cell_type": "markdown",
   "source": [
    "# CENG476 Machine Learning Homework-I Naive Bayes Classifier\n",
    "# 171180758 Candan Baykan\n",
    "\n",
    "## Dependencies"
   ],
   "metadata": {
    "collapsed": false
   }
  },
  {
   "cell_type": "code",
   "execution_count": 1,
   "outputs": [],
   "source": [
    "# Import required modules.\n",
    "from IPython.display import display\n",
    "import math\n",
    "import pandas as pd"
   ],
   "metadata": {
    "collapsed": false,
    "pycharm": {
     "name": "#%%\n"
    }
   }
  },
  {
   "cell_type": "markdown",
   "source": [
    "## Naive Bayes Implementation"
   ],
   "metadata": {
    "collapsed": false,
    "pycharm": {
     "name": "#%% md\n"
    }
   }
  },
  {
   "cell_type": "code",
   "execution_count": 2,
   "outputs": [],
   "source": [
    "# My Naive Bayes Classifier implementation.\n",
    "class NaiveBayesClassifier:\n",
    "\n",
    "    # Take the training data, target column's name, discrete columns' names and continuous columns' names.\n",
    "    def __init__(self, df, target_column, discrete_columns, continuous_columns):\n",
    "        self._df = df\n",
    "        self._target_column = target_column\n",
    "        self._discrete_columns = discrete_columns\n",
    "        self._continuous_columns = continuous_columns\n",
    "        self._target_dfs = dict()\n",
    "        self._target_probabilities = dict()\n",
    "        self._discrete_probabilities = dict()\n",
    "        self._continuous_stats = dict()\n",
    "\n",
    "    # Start training phase.\n",
    "    def fit(self):\n",
    "        for target in self._df[self._target_column].unique():\n",
    "            # Store the data frame for each unique target value.\n",
    "            self._target_dfs[target] = self._df[self._df[self._target_column] == target].drop(self._target_column, axis=1)\n",
    "            # Store the probabilities for each unique target value.\n",
    "            self._target_probabilities[target] = self._target_dfs[target].shape[0] / self._df.shape[0]\n",
    "\n",
    "        # Store the probabilities for each discrete features.\n",
    "        for column in self._discrete_columns:\n",
    "            self._discrete_probabilities[column] = self._discrete_probability(column)\n",
    "\n",
    "        # Store the statistics for each continuous features.\n",
    "        self._continuous_stats = self._continuous_statistics()\n",
    "\n",
    "    # Predict the target feature for each row.\n",
    "    def predict(self, X):\n",
    "        predictions = list()\n",
    "        # Dictionary for storing multiplication results for each unique target value.\n",
    "        products = dict.fromkeys(list(self._target_dfs.keys()))\n",
    "\n",
    "        # Initialize products by one for each unique target value.\n",
    "        for index, row in X.iterrows():\n",
    "            for target in products:\n",
    "                products[target] = 1\n",
    "\n",
    "            # Get the probability from discrete_probabilities for each discrete column and unique target value\n",
    "            # then multiply it.\n",
    "            for column in self._discrete_columns:\n",
    "                for target in products:\n",
    "                    products[target] *= self._discrete_probabilities[column].loc[row[column], target]\n",
    "\n",
    "            # Calculate the gaussian distribution for each continuous column and  unique target value the multiply it.\n",
    "            for column in self._continuous_columns:\n",
    "                for target in products:\n",
    "                    products[target] *= self._gaussian_distribution(column, row[column], target)\n",
    "\n",
    "            # Multiply the probability for each target value.\n",
    "            for target in products:\n",
    "                products[target] *= self._target_probabilities[target]\n",
    "\n",
    "            # Append the target value which has the highest probability.\n",
    "            predictions.append(max(products, key=products.get))\n",
    "\n",
    "        return predictions\n",
    "\n",
    "    # Calculate probabilities for a discrete feature.\n",
    "    def _discrete_probability(self, column):\n",
    "        # Get unique values for the column.\n",
    "        feature_values = self._df[column].unique()\n",
    "        # Get unique target values.\n",
    "        target_names = list(self._target_dfs.keys())\n",
    "\n",
    "        # Create data frame for probabilities.\n",
    "        pdf = pd.DataFrame(index=feature_values, columns=target_names)\n",
    "\n",
    "        # Calculate the probability and store it in data frame\n",
    "        for value in feature_values:\n",
    "            for target in target_names:\n",
    "                tdf = self._target_dfs[target]\n",
    "                pdf.loc[value, target] = tdf[tdf[column] == value].shape[0] / tdf.shape[0]\n",
    "\n",
    "        return pdf\n",
    "\n",
    "    # Calculate mean and standard deviation for continuous features.\n",
    "    def _continuous_statistics(self):\n",
    "         # Get unique target values.\n",
    "        target_names = list(self._target_dfs.keys())\n",
    "        columns = list()\n",
    "        # Create mean and standard deviation columns for each unique target value.\n",
    "        for target in target_names:\n",
    "            columns.append(target + '_mean')\n",
    "            columns.append(target + '_std')\n",
    "\n",
    "        # Create data frame for statistics.\n",
    "        sdf = pd.DataFrame(index=self._continuous_columns, columns=columns)\n",
    "\n",
    "        # Get statistics for each continuous column and unique target value and store them in data frame.\n",
    "        for column in self._continuous_columns:\n",
    "            for target in target_names:\n",
    "                sdf.loc[column, target + '_mean'] = self._target_dfs[target][column].mean()\n",
    "                sdf.loc[column, target + '_std'] = self._target_dfs[target][column].std()\n",
    "\n",
    "        return sdf\n",
    "\n",
    "    # Apply Gaussian distribution formula for given column, value and target value.\n",
    "    def _gaussian_distribution(self, column, value, target):\n",
    "        mean = self._continuous_stats.loc[column, target + '_mean']\n",
    "        variance = self._continuous_stats.loc[column, target + '_std'] ** 2\n",
    "        return (1.0 / math.sqrt(2 * 3 * variance)) * (math.e ** (-1 * ((value - mean) ** 2) / (2 * variance)))\n",
    "\n",
    "    def get_discrete_probabilities(self):\n",
    "        return self._discrete_probabilities\n",
    "\n",
    "    discrete_probabilities = property(fget=get_discrete_probabilities)"
   ],
   "metadata": {
    "collapsed": false,
    "pycharm": {
     "name": "#%%\n"
    }
   }
  },
  {
   "cell_type": "markdown",
   "source": [
    "### Utility Functions for Accuracy Calculation"
   ],
   "metadata": {
    "collapsed": false,
    "pycharm": {
     "name": "#%% md\n"
    }
   }
  },
  {
   "cell_type": "code",
   "execution_count": 3,
   "outputs": [],
   "source": [
    "# Calculate total accuracy.\n",
    "def calculate_accuracy(y_test, predictions):\n",
    "    counter = 0\n",
    "    for i in range(len(y_test)):\n",
    "        if y_test[i] == predictions[i]:\n",
    "            counter += 1\n",
    "\n",
    "    return counter / len(y_test)\n",
    "\n",
    "# Calculate given class' accuracy.\n",
    "def calculate_class_accuracy(y_test, predictions, value):\n",
    "    counter = 0\n",
    "    positive_counter = 0\n",
    "    for i in range(len(y_test)):\n",
    "        if y_test[i] == value:\n",
    "            counter += 1\n",
    "            if y_test[i] == predictions[i]:\n",
    "                positive_counter += 1\n",
    "\n",
    "    return positive_counter / counter"
   ],
   "metadata": {
    "collapsed": false,
    "pycharm": {
     "name": "#%%\n"
    }
   }
  },
  {
   "cell_type": "markdown",
   "source": [
    "## Training"
   ],
   "metadata": {
    "collapsed": false,
    "pycharm": {
     "name": "#%% md\n"
    }
   }
  },
  {
   "cell_type": "code",
   "execution_count": 4,
   "outputs": [
    {
     "data": {
      "text/plain": "             female      male\nAdelie     0.411348       0.4\nGentoo     0.375887  0.386207\nChinstrap  0.212766  0.213793",
      "text/html": "<div>\n<style scoped>\n    .dataframe tbody tr th:only-of-type {\n        vertical-align: middle;\n    }\n\n    .dataframe tbody tr th {\n        vertical-align: top;\n    }\n\n    .dataframe thead th {\n        text-align: right;\n    }\n</style>\n<table border=\"1\" class=\"dataframe\">\n  <thead>\n    <tr style=\"text-align: right;\">\n      <th></th>\n      <th>female</th>\n      <th>male</th>\n    </tr>\n  </thead>\n  <tbody>\n    <tr>\n      <th>Adelie</th>\n      <td>0.411348</td>\n      <td>0.4</td>\n    </tr>\n    <tr>\n      <th>Gentoo</th>\n      <td>0.375887</td>\n      <td>0.386207</td>\n    </tr>\n    <tr>\n      <th>Chinstrap</th>\n      <td>0.212766</td>\n      <td>0.213793</td>\n    </tr>\n  </tbody>\n</table>\n</div>"
     },
     "metadata": {},
     "output_type": "display_data"
    },
    {
     "data": {
      "text/plain": "             female      male\nTorgersen  0.141844  0.137931\nBiscoe     0.489362  0.489655\nDream      0.368794  0.372414",
      "text/html": "<div>\n<style scoped>\n    .dataframe tbody tr th:only-of-type {\n        vertical-align: middle;\n    }\n\n    .dataframe tbody tr th {\n        vertical-align: top;\n    }\n\n    .dataframe thead th {\n        text-align: right;\n    }\n</style>\n<table border=\"1\" class=\"dataframe\">\n  <thead>\n    <tr style=\"text-align: right;\">\n      <th></th>\n      <th>female</th>\n      <th>male</th>\n    </tr>\n  </thead>\n  <tbody>\n    <tr>\n      <th>Torgersen</th>\n      <td>0.141844</td>\n      <td>0.137931</td>\n    </tr>\n    <tr>\n      <th>Biscoe</th>\n      <td>0.489362</td>\n      <td>0.489655</td>\n    </tr>\n    <tr>\n      <th>Dream</th>\n      <td>0.368794</td>\n      <td>0.372414</td>\n    </tr>\n  </tbody>\n</table>\n</div>"
     },
     "metadata": {},
     "output_type": "display_data"
    }
   ],
   "source": [
    "# Read training data from CSV file then train the classifier.\n",
    "df = pd.read_csv('Training_Penguins_data.csv')\n",
    "nvc = NaiveBayesClassifier(df, 'sex', ['species', 'island'], ['bill_length_mm', 'bill_depth_mm', 'flipper_length_mm', 'body_mass_kg'])\n",
    "nvc.fit()\n",
    "\n",
    "display(nvc.discrete_probabilities['species'])\n",
    "display(nvc.discrete_probabilities['island'])"
   ],
   "metadata": {
    "collapsed": false,
    "pycharm": {
     "name": "#%%\n"
    }
   }
  },
  {
   "cell_type": "markdown",
   "source": [
    "## Testing"
   ],
   "metadata": {
    "collapsed": false,
    "pycharm": {
     "name": "#%% md\n"
    }
   }
  },
  {
   "cell_type": "code",
   "execution_count": 5,
   "outputs": [],
   "source": [
    "# Read test data from CSV file then predict their classes using classifier.\n",
    "tdf = pd.read_csv('Testing_Penguins_Data.csv')\n",
    "y_test = tdf['sex']\n",
    "X_test = tdf.drop('sex', axis=1)\n",
    "predictions = nvc.predict(X_test)"
   ],
   "metadata": {
    "collapsed": false,
    "pycharm": {
     "name": "#%%\n"
    }
   }
  },
  {
   "cell_type": "markdown",
   "source": [
    "### Accuracy Calculations"
   ],
   "metadata": {
    "collapsed": false,
    "pycharm": {
     "name": "#%% md\n"
    }
   }
  },
  {
   "cell_type": "code",
   "execution_count": 6,
   "outputs": [
    {
     "name": "stdout",
     "output_type": "stream",
     "text": [
      "Total accuracy: 0.67\n",
      "Male accuracy: 0.50\n",
      "Female accuracy: 0.84\n"
     ]
    }
   ],
   "source": [
    "print(f'Total accuracy: {calculate_accuracy(y_test, predictions):.2f}')\n",
    "print(f'Male accuracy: {calculate_class_accuracy(y_test, predictions, \"male\"):.2f}')\n",
    "print(f'Female accuracy: {calculate_class_accuracy(y_test, predictions, \"female\"):.2f}')"
   ],
   "metadata": {
    "collapsed": false,
    "pycharm": {
     "name": "#%%\n"
    }
   }
  },
  {
   "cell_type": "markdown",
   "source": [
    "### Confusion Matrix"
   ],
   "metadata": {
    "collapsed": false,
    "pycharm": {
     "name": "#%% md\n"
    }
   }
  },
  {
   "cell_type": "code",
   "execution_count": 7,
   "outputs": [
    {
     "data": {
      "text/plain": "                  Actual Male  Actual Female\nPredicted Male             12              4\nPredicted Female           12             21",
      "text/html": "<div>\n<style scoped>\n    .dataframe tbody tr th:only-of-type {\n        vertical-align: middle;\n    }\n\n    .dataframe tbody tr th {\n        vertical-align: top;\n    }\n\n    .dataframe thead th {\n        text-align: right;\n    }\n</style>\n<table border=\"1\" class=\"dataframe\">\n  <thead>\n    <tr style=\"text-align: right;\">\n      <th></th>\n      <th>Actual Male</th>\n      <th>Actual Female</th>\n    </tr>\n  </thead>\n  <tbody>\n    <tr>\n      <th>Predicted Male</th>\n      <td>12</td>\n      <td>4</td>\n    </tr>\n    <tr>\n      <th>Predicted Female</th>\n      <td>12</td>\n      <td>21</td>\n    </tr>\n  </tbody>\n</table>\n</div>"
     },
     "metadata": {},
     "output_type": "display_data"
    }
   ],
   "source": [
    "confusion_matrix = pd.DataFrame(index=['Predicted Male', 'Predicted Female'], columns=['Actual Male', 'Actual Female'], data=[[0, 0], [0, 0]])\n",
    "\n",
    "for i in range(len(y_test)):\n",
    "    if predictions[i] == 'male' and y_test[i] == 'male':\n",
    "        confusion_matrix.loc['Predicted Male', 'Actual Male'] += 1\n",
    "    elif predictions[i] == 'male' and y_test[i] == 'female':\n",
    "        confusion_matrix.loc['Predicted Male', 'Actual Female'] += 1\n",
    "    elif predictions[i] == 'female' and y_test[i] == 'female':\n",
    "        confusion_matrix.loc['Predicted Female', 'Actual Female'] += 1\n",
    "    elif predictions[i] == 'female' and y_test[i] == 'male':\n",
    "        confusion_matrix.loc['Predicted Female', 'Actual Male'] += 1\n",
    "\n",
    "display(confusion_matrix)"
   ],
   "metadata": {
    "collapsed": false,
    "pycharm": {
     "name": "#%%\n"
    }
   }
  }
 ],
 "metadata": {
  "kernelspec": {
   "display_name": "Python 3",
   "language": "python",
   "name": "python3"
  },
  "language_info": {
   "codemirror_mode": {
    "name": "ipython",
    "version": 2
   },
   "file_extension": ".py",
   "mimetype": "text/x-python",
   "name": "python",
   "nbconvert_exporter": "python",
   "pygments_lexer": "ipython2",
   "version": "2.7.6"
  }
 },
 "nbformat": 4,
 "nbformat_minor": 0
}